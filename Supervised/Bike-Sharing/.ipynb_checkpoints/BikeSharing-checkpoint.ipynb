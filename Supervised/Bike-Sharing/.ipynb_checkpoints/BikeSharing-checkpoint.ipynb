{
 "cells": [
  {
   "cell_type": "markdown",
   "metadata": {
    "colab_type": "text",
    "id": "elrLD_RDlIw_"
   },
   "source": [
    "Import all the required libraries"
   ]
  },
  {
   "cell_type": "code",
   "execution_count": 51,
   "metadata": {
    "colab": {},
    "colab_type": "code",
    "id": "df9_BfZ7TU4O"
   },
   "outputs": [],
   "source": [
    "import pandas as pd\n",
    "import numpy as np\n",
    "import matplotlib.pylab as plt\n",
    "%matplotlib inline\n",
    "from matplotlib.pylab import rcParams\n",
    "rcParams['figure.figsize'] = 15, 6\n",
    "from datetime import datetime\n",
    "from time import *\n",
    "from sklearn import metrics\n",
    "# from pandas.stats.api import ols"
   ]
  },
  {
   "cell_type": "markdown",
   "metadata": {
    "colab_type": "text",
    "id": "qv1sN2WJlc9G"
   },
   "source": [
    "Read data into dataframe with dateparser"
   ]
  },
  {
   "cell_type": "code",
   "execution_count": 52,
   "metadata": {
    "colab": {},
    "colab_type": "code",
    "id": "EH7CVQycUDPt"
   },
   "outputs": [],
   "source": [
    "dateparse = lambda dates: pd.datetime.strptime(dates, '%Y-%m-%d')\n",
    "df = pd.read_csv('day.csv', parse_dates=['dteday'], date_parser=dateparse)"
   ]
  },
  {
   "cell_type": "code",
   "execution_count": 53,
   "metadata": {
    "colab": {
     "base_uri": "https://localhost:8080/",
     "height": 305
    },
    "colab_type": "code",
    "id": "pbsT7Hl4UDvU",
    "outputId": "92d5e2bd-8c1a-4d0f-896d-8b47f5edee9d"
   },
   "outputs": [
    {
     "name": "stdout",
     "output_type": "stream",
     "text": [
      "     instant     dteday  season  yr  mnth  holiday  weekday  workingday  \\\n",
      "0          1 2011-01-01       1   0     1        0        6           0   \n",
      "1          2 2011-01-02       1   0     1        0        0           0   \n",
      "2          3 2011-01-03       1   0     1        0        1           1   \n",
      "3          4 2011-01-04       1   0     1        0        2           1   \n",
      "4          5 2011-01-05       1   0     1        0        3           1   \n",
      "5          6 2011-01-06       1   0     1        0        4           1   \n",
      "6          7 2011-01-07       1   0     1        0        5           1   \n",
      "7          8 2011-01-08       1   0     1        0        6           0   \n",
      "8          9 2011-01-09       1   0     1        0        0           0   \n",
      "9         10 2011-01-10       1   0     1        0        1           1   \n",
      "10        11 2011-01-11       1   0     1        0        2           1   \n",
      "11        12 2011-01-12       1   0     1        0        3           1   \n",
      "12        13 2011-01-13       1   0     1        0        4           1   \n",
      "13        14 2011-01-14       1   0     1        0        5           1   \n",
      "14        15 2011-01-15       1   0     1        0        6           0   \n",
      "15        16 2011-01-16       1   0     1        0        0           0   \n",
      "16        17 2011-01-17       1   0     1        1        1           0   \n",
      "17        18 2011-01-18       1   0     1        0        2           1   \n",
      "18        19 2011-01-19       1   0     1        0        3           1   \n",
      "19        20 2011-01-20       1   0     1        0        4           1   \n",
      "20        21 2011-01-21       1   0     1        0        5           1   \n",
      "21        22 2011-01-22       1   0     1        0        6           0   \n",
      "22        23 2011-01-23       1   0     1        0        0           0   \n",
      "23        24 2011-01-24       1   0     1        0        1           1   \n",
      "24        25 2011-01-25       1   0     1        0        2           1   \n",
      "25        26 2011-01-26       1   0     1        0        3           1   \n",
      "26        27 2011-01-27       1   0     1        0        4           1   \n",
      "27        28 2011-01-28       1   0     1        0        5           1   \n",
      "28        29 2011-01-29       1   0     1        0        6           0   \n",
      "29        30 2011-01-30       1   0     1        0        0           0   \n",
      "..       ...        ...     ...  ..   ...      ...      ...         ...   \n",
      "701      702 2012-12-02       4   1    12        0        0           0   \n",
      "702      703 2012-12-03       4   1    12        0        1           1   \n",
      "703      704 2012-12-04       4   1    12        0        2           1   \n",
      "704      705 2012-12-05       4   1    12        0        3           1   \n",
      "705      706 2012-12-06       4   1    12        0        4           1   \n",
      "706      707 2012-12-07       4   1    12        0        5           1   \n",
      "707      708 2012-12-08       4   1    12        0        6           0   \n",
      "708      709 2012-12-09       4   1    12        0        0           0   \n",
      "709      710 2012-12-10       4   1    12        0        1           1   \n",
      "710      711 2012-12-11       4   1    12        0        2           1   \n",
      "711      712 2012-12-12       4   1    12        0        3           1   \n",
      "712      713 2012-12-13       4   1    12        0        4           1   \n",
      "713      714 2012-12-14       4   1    12        0        5           1   \n",
      "714      715 2012-12-15       4   1    12        0        6           0   \n",
      "715      716 2012-12-16       4   1    12        0        0           0   \n",
      "716      717 2012-12-17       4   1    12        0        1           1   \n",
      "717      718 2012-12-18       4   1    12        0        2           1   \n",
      "718      719 2012-12-19       4   1    12        0        3           1   \n",
      "719      720 2012-12-20       4   1    12        0        4           1   \n",
      "720      721 2012-12-21       1   1    12        0        5           1   \n",
      "721      722 2012-12-22       1   1    12        0        6           0   \n",
      "722      723 2012-12-23       1   1    12        0        0           0   \n",
      "723      724 2012-12-24       1   1    12        0        1           1   \n",
      "724      725 2012-12-25       1   1    12        1        2           0   \n",
      "725      726 2012-12-26       1   1    12        0        3           1   \n",
      "726      727 2012-12-27       1   1    12        0        4           1   \n",
      "727      728 2012-12-28       1   1    12        0        5           1   \n",
      "728      729 2012-12-29       1   1    12        0        6           0   \n",
      "729      730 2012-12-30       1   1    12        0        0           0   \n",
      "730      731 2012-12-31       1   1    12        0        1           1   \n",
      "\n",
      "     weathersit      temp     atemp       hum  windspeed  casual  registered  \\\n",
      "0             2  0.344167  0.363625  0.805833   0.160446     331         654   \n",
      "1             2  0.363478  0.353739  0.696087   0.248539     131         670   \n",
      "2             1  0.196364  0.189405  0.437273   0.248309     120        1229   \n",
      "3             1  0.200000  0.212122  0.590435   0.160296     108        1454   \n",
      "4             1  0.226957  0.229270  0.436957   0.186900      82        1518   \n",
      "5             1  0.204348  0.233209  0.518261   0.089565      88        1518   \n",
      "6             2  0.196522  0.208839  0.498696   0.168726     148        1362   \n",
      "7             2  0.165000  0.162254  0.535833   0.266804      68         891   \n",
      "8             1  0.138333  0.116175  0.434167   0.361950      54         768   \n",
      "9             1  0.150833  0.150888  0.482917   0.223267      41        1280   \n",
      "10            2  0.169091  0.191464  0.686364   0.122132      43        1220   \n",
      "11            1  0.172727  0.160473  0.599545   0.304627      25        1137   \n",
      "12            1  0.165000  0.150883  0.470417   0.301000      38        1368   \n",
      "13            1  0.160870  0.188413  0.537826   0.126548      54        1367   \n",
      "14            2  0.233333  0.248112  0.498750   0.157963     222        1026   \n",
      "15            1  0.231667  0.234217  0.483750   0.188433     251         953   \n",
      "16            2  0.175833  0.176771  0.537500   0.194017     117         883   \n",
      "17            2  0.216667  0.232333  0.861667   0.146775       9         674   \n",
      "18            2  0.292174  0.298422  0.741739   0.208317      78        1572   \n",
      "19            2  0.261667  0.255050  0.538333   0.195904      83        1844   \n",
      "20            1  0.177500  0.157833  0.457083   0.353242      75        1468   \n",
      "21            1  0.059130  0.079070  0.400000   0.171970      93         888   \n",
      "22            1  0.096522  0.098839  0.436522   0.246600     150         836   \n",
      "23            1  0.097391  0.117930  0.491739   0.158330      86        1330   \n",
      "24            2  0.223478  0.234526  0.616957   0.129796     186        1799   \n",
      "25            3  0.217500  0.203600  0.862500   0.293850      34         472   \n",
      "26            1  0.195000  0.219700  0.687500   0.113837      15         416   \n",
      "27            2  0.203478  0.223317  0.793043   0.123300      38        1129   \n",
      "28            1  0.196522  0.212126  0.651739   0.145365     123         975   \n",
      "29            1  0.216522  0.250322  0.722174   0.073983     140         956   \n",
      "..          ...       ...       ...       ...        ...     ...         ...   \n",
      "701           2  0.347500  0.359208  0.823333   0.124379     892        3757   \n",
      "702           1  0.452500  0.455796  0.767500   0.082721     555        5679   \n",
      "703           1  0.475833  0.469054  0.733750   0.174129     551        6055   \n",
      "704           1  0.438333  0.428012  0.485000   0.324021     331        5398   \n",
      "705           1  0.255833  0.258204  0.508750   0.174754     340        5035   \n",
      "706           2  0.320833  0.321958  0.764167   0.130600     349        4659   \n",
      "707           2  0.381667  0.389508  0.911250   0.101379    1153        4429   \n",
      "708           2  0.384167  0.390146  0.905417   0.157975     441        2787   \n",
      "709           2  0.435833  0.435575  0.925000   0.190308     329        4841   \n",
      "710           2  0.353333  0.338363  0.596667   0.296037     282        5219   \n",
      "711           2  0.297500  0.297338  0.538333   0.162937     310        5009   \n",
      "712           1  0.295833  0.294188  0.485833   0.174129     425        5107   \n",
      "713           1  0.281667  0.294192  0.642917   0.131229     429        5182   \n",
      "714           1  0.324167  0.338383  0.650417   0.106350     767        4280   \n",
      "715           2  0.362500  0.369938  0.838750   0.100742     538        3248   \n",
      "716           2  0.393333  0.401500  0.907083   0.098258     212        4373   \n",
      "717           1  0.410833  0.409708  0.666250   0.221404     433        5124   \n",
      "718           1  0.332500  0.342162  0.625417   0.184092     333        4934   \n",
      "719           2  0.330000  0.335217  0.667917   0.132463     314        3814   \n",
      "720           2  0.326667  0.301767  0.556667   0.374383     221        3402   \n",
      "721           1  0.265833  0.236113  0.441250   0.407346     205        1544   \n",
      "722           1  0.245833  0.259471  0.515417   0.133083     408        1379   \n",
      "723           2  0.231304  0.258900  0.791304   0.077230     174         746   \n",
      "724           2  0.291304  0.294465  0.734783   0.168726     440         573   \n",
      "725           3  0.243333  0.220333  0.823333   0.316546       9         432   \n",
      "726           2  0.254167  0.226642  0.652917   0.350133     247        1867   \n",
      "727           2  0.253333  0.255046  0.590000   0.155471     644        2451   \n",
      "728           2  0.253333  0.242400  0.752917   0.124383     159        1182   \n",
      "729           1  0.255833  0.231700  0.483333   0.350754     364        1432   \n",
      "730           2  0.215833  0.223487  0.577500   0.154846     439        2290   \n",
      "\n",
      "      cnt  \n",
      "0     985  \n",
      "1     801  \n",
      "2    1349  \n",
      "3    1562  \n",
      "4    1600  \n",
      "5    1606  \n",
      "6    1510  \n",
      "7     959  \n",
      "8     822  \n",
      "9    1321  \n",
      "10   1263  \n",
      "11   1162  \n",
      "12   1406  \n",
      "13   1421  \n",
      "14   1248  \n",
      "15   1204  \n",
      "16   1000  \n",
      "17    683  \n",
      "18   1650  \n",
      "19   1927  \n",
      "20   1543  \n",
      "21    981  \n",
      "22    986  \n",
      "23   1416  \n",
      "24   1985  \n",
      "25    506  \n",
      "26    431  \n",
      "27   1167  \n",
      "28   1098  \n",
      "29   1096  \n",
      "..    ...  \n",
      "701  4649  \n",
      "702  6234  \n",
      "703  6606  \n",
      "704  5729  \n",
      "705  5375  \n",
      "706  5008  \n",
      "707  5582  \n",
      "708  3228  \n",
      "709  5170  \n",
      "710  5501  \n",
      "711  5319  \n",
      "712  5532  \n",
      "713  5611  \n",
      "714  5047  \n",
      "715  3786  \n",
      "716  4585  \n",
      "717  5557  \n",
      "718  5267  \n",
      "719  4128  \n",
      "720  3623  \n",
      "721  1749  \n",
      "722  1787  \n",
      "723   920  \n",
      "724  1013  \n",
      "725   441  \n",
      "726  2114  \n",
      "727  3095  \n",
      "728  1341  \n",
      "729  1796  \n",
      "730  2729  \n",
      "\n",
      "[731 rows x 16 columns]\n"
     ]
    }
   ],
   "source": [
    "print(df)"
   ]
  },
  {
   "cell_type": "markdown",
   "metadata": {
    "colab_type": "text",
    "id": "2HWGP78mlkpG"
   },
   "source": [
    "Plotting cnt with respect to temperature"
   ]
  },
  {
   "cell_type": "code",
   "execution_count": 54,
   "metadata": {
    "colab": {
     "base_uri": "https://localhost:8080/",
     "height": 374
    },
    "colab_type": "code",
    "id": "OjZmiSXvUVrO",
    "outputId": "b487549e-ed52-4ff7-ca74-02b5d165650c",
    "scrolled": true
   },
   "outputs": [
    {
     "data": {
      "image/png": "[encoded data removed]",
      "text/plain": [
       "<Figure size 1080x432 with 1 Axes>"
      ]
     },
     "metadata": {},
     "output_type": "display_data"
    }
   ],
   "source": [
    "plt.plot(df['temp'], df['cnt'], 'o', color='blue');"
   ]
  },
  {
   "cell_type": "markdown",
   "metadata": {
    "colab_type": "text",
    "id": "5bY72RC6OLDh"
   },
   "source": [
    "\n",
    "\n",
    "cnt is increasing with temperature\n",
    "\n"
   ]
  },
  {
   "cell_type": "markdown",
   "metadata": {
    "colab_type": "text",
    "id": "Ji6LNAIzltEi"
   },
   "source": [
    "Correlation between temp and cnt"
   ]
  },
  {
   "cell_type": "code",
   "execution_count": 55,
   "metadata": {
    "colab": {
     "base_uri": "https://localhost:8080/",
     "height": 34
    },
    "colab_type": "code",
    "id": "V8dBRjsFURNw",
    "outputId": "50d975a4-a543-48f6-cb64-0b4c0288c721"
   },
   "outputs": [
    {
     "data": {
      "text/plain": [
       "0.6274940090334918"
      ]
     },
     "execution_count": 55,
     "metadata": {},
     "output_type": "execute_result"
    }
   ],
   "source": [
    "df['temp'].corr(df['cnt'])"
   ]
  },
  {
   "cell_type": "markdown",
   "metadata": {
    "colab_type": "text",
    "id": "UuhFTTPxlyhz"
   },
   "source": [
    "Plotting cnt with respect to dteday"
   ]
  },
  {
   "cell_type": "code",
   "execution_count": 56,
   "metadata": {
    "colab": {
     "base_uri": "https://localhost:8080/",
     "height": 392
    },
    "colab_type": "code",
    "id": "44WfHh8VYT3c",
    "outputId": "ca8bd4f2-8532-414c-8513-cfb913cdc65a"
   },
   "outputs": [
    {
     "data": {
      "text/plain": [
       "[<matplotlib.lines.Line2D at 0x21befd2fc50>]"
      ]
     },
     "execution_count": 56,
     "metadata": {},
     "output_type": "execute_result"
    },
    {
     "data": {
      "image/png": "[encoded data removed]",
      "text/plain": [
       "<Figure size 1080x432 with 1 Axes>"
      ]
     },
     "metadata": {},
     "output_type": "display_data"
    }
   ],
   "source": [
    "plt.plot(df['dteday'], df['cnt'], 'o', color='blue')"
   ]
  },
  {
   "cell_type": "markdown",
   "metadata": {},
   "source": [
    "Bike Rentals tend to increase during Winters & also during Summers. In addition, Bike Rentals also increase from year 2011 to year 2012"
   ]
  },
  {
   "cell_type": "markdown",
   "metadata": {
    "colab_type": "text",
    "id": "g_oe1ozrmBAR"
   },
   "source": [
    "Changing season to categorical"
   ]
  },
  {
   "cell_type": "code",
   "execution_count": 24,
   "metadata": {
    "colab": {},
    "colab_type": "code",
    "id": "S_zAOibpSWI-"
   },
   "outputs": [],
   "source": [
    "df['season_cat'] = pd.Categorical(df['season'])"
   ]
  },
  {
   "cell_type": "markdown",
   "metadata": {
    "colab_type": "text",
    "id": "LqUQbJRDmGmr"
   },
   "source": [
    "Boxplot of cnt with respect to season"
   ]
  },
  {
   "cell_type": "code",
   "execution_count": 25,
   "metadata": {
    "colab": {
     "base_uri": "https://localhost:8080/",
     "height": 438
    },
    "colab_type": "code",
    "id": "LNZnPYohUbfz",
    "outputId": "ff117d80-e0d9-4f91-aadb-61f35fc34600"
   },
   "outputs": [
    {
     "data": {
      "text/plain": [
       "<matplotlib.axes._subplots.AxesSubplot at 0x21bef058c18>"
      ]
     },
     "execution_count": 25,
     "metadata": {},
     "output_type": "execute_result"
    },
    {
     "data": {
      "image/png": "[encoded data removed]",
      "text/plain": [
       "<Figure size 1080x432 with 1 Axes>"
      ]
     },
     "metadata": {},
     "output_type": "display_data"
    }
   ],
   "source": [
    "df[['season_cat', 'cnt']].boxplot(by = 'season_cat')"
   ]
  },
  {
   "cell_type": "markdown",
   "metadata": {},
   "source": [
    "The above plot describes that line cannot capture non linear relationship and there are more rentals in Winter than Spring"
   ]
  },
  {
   "cell_type": "markdown",
   "metadata": {
    "colab_type": "text",
    "id": "T38ck9mImSCg"
   },
   "source": [
    "\n",
    "Changing season to categorical and plotting boxplot\n",
    "\n"
   ]
  },
  {
   "cell_type": "code",
   "execution_count": 26,
   "metadata": {
    "colab": {
     "base_uri": "https://localhost:8080/",
     "height": 438
    },
    "colab_type": "code",
    "id": "PxKjKF_BuR7t",
    "outputId": "1c09d11a-b0e7-49df-9134-c6248ea6b2f5"
   },
   "outputs": [
    {
     "data": {
      "text/plain": [
       "<matplotlib.axes._subplots.AxesSubplot at 0x21bee8f5b38>"
      ]
     },
     "execution_count": 26,
     "metadata": {},
     "output_type": "execute_result"
    },
    {
     "data": {
      "image/png": "[encoded data removed]",
      "text/plain": [
       "<Figure size 1080x432 with 1 Axes>"
      ]
     },
     "metadata": {},
     "output_type": "display_data"
    }
   ],
   "source": [
    "df['weathersit_cat'] = pd.Categorical(df['weathersit'])\n",
    "df[['weathersit_cat', 'cnt']].boxplot(by = 'weathersit_cat')"
   ]
  },
  {
   "cell_type": "markdown",
   "metadata": {},
   "source": [
    "During holidays there is less bike rental during morning hours and it eventually increases after noon."
   ]
  },
  {
   "cell_type": "markdown",
   "metadata": {
    "colab_type": "text",
    "id": "ZgRqsxWzmcl2"
   },
   "source": [
    "Plotting cnt with respect to hum"
   ]
  },
  {
   "cell_type": "code",
   "execution_count": 27,
   "metadata": {
    "colab": {
     "base_uri": "https://localhost:8080/",
     "height": 392
    },
    "colab_type": "code",
    "id": "LHfd9wgaS6kd",
    "outputId": "524f9643-6d6b-4122-9f56-09483db0f4a5"
   },
   "outputs": [
    {
     "data": {
      "text/plain": [
       "[<matplotlib.lines.Line2D at 0x21bee99d908>]"
      ]
     },
     "execution_count": 27,
     "metadata": {},
     "output_type": "execute_result"
    },
    {
     "data": {
      "image/png": "[encoded data removed]",
      "text/plain": [
       "<Figure size 1080x432 with 1 Axes>"
      ]
     },
     "metadata": {},
     "output_type": "display_data"
    }
   ],
   "source": [
    "plt.plot(df['hum'], df['cnt'], 'o')"
   ]
  },
  {
   "cell_type": "markdown",
   "metadata": {
    "colab_type": "text",
    "id": "nuTE0hRIT_BN"
   },
   "source": [
    "\n",
    "\n",
    "It doesnt capture any meaningful relationship between humidity and target variable\n",
    "\n"
   ]
  },
  {
   "cell_type": "markdown",
   "metadata": {
    "colab_type": "text",
    "id": "lf7WrWmImrNa"
   },
   "source": [
    "Correlation between hum and cnt\n"
   ]
  },
  {
   "cell_type": "code",
   "execution_count": 57,
   "metadata": {
    "colab": {
     "base_uri": "https://localhost:8080/",
     "height": 34
    },
    "colab_type": "code",
    "id": "vDcbAIs6TSwd",
    "outputId": "9791d482-792a-4168-9f0c-dedf31ffcd93"
   },
   "outputs": [
    {
     "data": {
      "text/plain": [
       "-0.10065856213715531"
      ]
     },
     "execution_count": 57,
     "metadata": {},
     "output_type": "execute_result"
    }
   ],
   "source": [
    "df['hum'].corr(df['cnt'])"
   ]
  },
  {
   "cell_type": "markdown",
   "metadata": {
    "colab_type": "text",
    "id": "fW7nXb3fUvNu"
   },
   "source": [
    "There is also a worst correlation between humidity and cnt"
   ]
  },
  {
   "cell_type": "code",
   "execution_count": 59,
   "metadata": {
    "colab": {
     "base_uri": "https://localhost:8080/",
     "height": 173
    },
    "colab_type": "code",
    "id": "HxUPu0g6UrxK",
    "outputId": "7532b7cf-b5dc-49c7-df78-e69c20cd76c9"
   },
   "outputs": [
    {
     "data": {
      "text/plain": [
       "count    731.000000\n",
       "mean       0.190486\n",
       "std        0.077498\n",
       "min        0.022392\n",
       "25%        0.134950\n",
       "50%        0.180975\n",
       "75%        0.233214\n",
       "max        0.507463\n",
       "Name: windspeed, dtype: float64"
      ]
     },
     "execution_count": 59,
     "metadata": {},
     "output_type": "execute_result"
    }
   ],
   "source": [
    "df['windspeed'].describe()"
   ]
  },
  {
   "cell_type": "markdown",
   "metadata": {
    "colab_type": "text",
    "id": "X7AgfxIImu7j"
   },
   "source": [
    "Correlation between windspeed and cnt\n"
   ]
  },
  {
   "cell_type": "code",
   "execution_count": 60,
   "metadata": {
    "colab": {
     "base_uri": "https://localhost:8080/",
     "height": 34
    },
    "colab_type": "code",
    "id": "jEDezQlZVefs",
    "outputId": "d4efcb98-e407-4cc5-fd12-c888313f2b8f"
   },
   "outputs": [
    {
     "data": {
      "text/plain": [
       "-0.23454499742167"
      ]
     },
     "execution_count": 60,
     "metadata": {},
     "output_type": "execute_result"
    }
   ],
   "source": [
    "df['windspeed'].corr(df['cnt'])"
   ]
  },
  {
   "cell_type": "code",
   "execution_count": 61,
   "metadata": {
    "colab": {
     "base_uri": "https://localhost:8080/",
     "height": 392
    },
    "colab_type": "code",
    "id": "AWr1xLj3V1fp",
    "outputId": "9548b0a9-f36c-4e62-8811-bf864f97b5ac"
   },
   "outputs": [
    {
     "data": {
      "text/plain": [
       "[<matplotlib.lines.Line2D at 0x21befbaf6d8>]"
      ]
     },
     "execution_count": 61,
     "metadata": {},
     "output_type": "execute_result"
    },
    {
     "data": {
      "image/png": "[encoded data removed]",
      "text/plain": [
       "<Figure size 1080x432 with 1 Axes>"
      ]
     },
     "metadata": {},
     "output_type": "display_data"
    }
   ],
   "source": [
    "plt.plot(df['windspeed'], df['cnt'], 'o')"
   ]
  },
  {
   "cell_type": "code",
   "execution_count": 62,
   "metadata": {
    "colab": {},
    "colab_type": "code",
    "id": "8qK9mgmfmc5y"
   },
   "outputs": [
    {
     "name": "stdout",
     "output_type": "stream",
     "text": [
      "0      734138\n",
      "1      734139\n",
      "2      734140\n",
      "3      734141\n",
      "4      734142\n",
      "5      734143\n",
      "6      734144\n",
      "7      734145\n",
      "8      734146\n",
      "9      734147\n",
      "10     734148\n",
      "11     734149\n",
      "12     734150\n",
      "13     734151\n",
      "14     734152\n",
      "15     734153\n",
      "16     734154\n",
      "17     734155\n",
      "18     734156\n",
      "19     734157\n",
      "20     734158\n",
      "21     734159\n",
      "22     734160\n",
      "23     734161\n",
      "24     734162\n",
      "25     734163\n",
      "26     734164\n",
      "27     734165\n",
      "28     734166\n",
      "29     734167\n",
      "        ...  \n",
      "701    734839\n",
      "702    734840\n",
      "703    734841\n",
      "704    734842\n",
      "705    734843\n",
      "706    734844\n",
      "707    734845\n",
      "708    734846\n",
      "709    734847\n",
      "710    734848\n",
      "711    734849\n",
      "712    734850\n",
      "713    734851\n",
      "714    734852\n",
      "715    734853\n",
      "716    734854\n",
      "717    734855\n",
      "718    734856\n",
      "719    734857\n",
      "720    734858\n",
      "721    734859\n",
      "722    734860\n",
      "723    734861\n",
      "724    734862\n",
      "725    734863\n",
      "726    734864\n",
      "727    734865\n",
      "728    734866\n",
      "729    734867\n",
      "730    734868\n",
      "Name: dteday, Length: 731, dtype: int64\n"
     ]
    }
   ],
   "source": [
    "df['dteday'] = df['dteday'].map(datetime.toordinal)\n",
    "print(df['dteday'])"
   ]
  },
  {
   "cell_type": "code",
   "execution_count": 63,
   "metadata": {
    "colab": {},
    "colab_type": "code",
    "id": "zpqdTYOatfbK"
   },
   "outputs": [
    {
     "name": "stdout",
     "output_type": "stream",
     "text": [
      "0      0.000000\n",
      "1      0.001370\n",
      "2      0.002740\n",
      "3      0.004110\n",
      "4      0.005479\n",
      "5      0.006849\n",
      "6      0.008219\n",
      "7      0.009589\n",
      "8      0.010959\n",
      "9      0.012329\n",
      "10     0.013699\n",
      "11     0.015068\n",
      "12     0.016438\n",
      "13     0.017808\n",
      "14     0.019178\n",
      "15     0.020548\n",
      "16     0.021918\n",
      "17     0.023288\n",
      "18     0.024658\n",
      "19     0.026027\n",
      "20     0.027397\n",
      "21     0.028767\n",
      "22     0.030137\n",
      "23     0.031507\n",
      "24     0.032877\n",
      "25     0.034247\n",
      "26     0.035616\n",
      "27     0.036986\n",
      "28     0.038356\n",
      "29     0.039726\n",
      "         ...   \n",
      "701    0.960274\n",
      "702    0.961644\n",
      "703    0.963014\n",
      "704    0.964384\n",
      "705    0.965753\n",
      "706    0.967123\n",
      "707    0.968493\n",
      "708    0.969863\n",
      "709    0.971233\n",
      "710    0.972603\n",
      "711    0.973973\n",
      "712    0.975342\n",
      "713    0.976712\n",
      "714    0.978082\n",
      "715    0.979452\n",
      "716    0.980822\n",
      "717    0.982192\n",
      "718    0.983562\n",
      "719    0.984932\n",
      "720    0.986301\n",
      "721    0.987671\n",
      "722    0.989041\n",
      "723    0.990411\n",
      "724    0.991781\n",
      "725    0.993151\n",
      "726    0.994521\n",
      "727    0.995890\n",
      "728    0.997260\n",
      "729    0.998630\n",
      "730    1.000000\n",
      "Name: dteday, Length: 731, dtype: float64\n"
     ]
    }
   ],
   "source": [
    "dates = df['dteday']\n",
    "dates = (dates-dates.min())/(dates.max()-dates.min())\n",
    "df['dteday'] = dates\n",
    "print(df['dteday'])"
   ]
  },
  {
   "cell_type": "code",
   "execution_count": 64,
   "metadata": {},
   "outputs": [
    {
     "name": "stdout",
     "output_type": "stream",
     "text": [
      "0      0\n",
      "1      0\n",
      "2      0\n",
      "3      0\n",
      "4      0\n",
      "5      0\n",
      "6      0\n",
      "7      0\n",
      "8      0\n",
      "9      0\n",
      "10     0\n",
      "11     0\n",
      "12     0\n",
      "13     0\n",
      "14     0\n",
      "15     0\n",
      "16     0\n",
      "17     0\n",
      "18     0\n",
      "19     0\n",
      "20     0\n",
      "21     0\n",
      "22     0\n",
      "23     0\n",
      "24     0\n",
      "25     0\n",
      "26     0\n",
      "27     0\n",
      "28     0\n",
      "29     0\n",
      "      ..\n",
      "701    1\n",
      "702    1\n",
      "703    1\n",
      "704    1\n",
      "705    1\n",
      "706    1\n",
      "707    1\n",
      "708    1\n",
      "709    1\n",
      "710    1\n",
      "711    1\n",
      "712    1\n",
      "713    1\n",
      "714    1\n",
      "715    1\n",
      "716    1\n",
      "717    1\n",
      "718    1\n",
      "719    1\n",
      "720    1\n",
      "721    1\n",
      "722    1\n",
      "723    1\n",
      "724    1\n",
      "725    1\n",
      "726    1\n",
      "727    1\n",
      "728    1\n",
      "729    1\n",
      "730    1\n",
      "Name: yr, Length: 731, dtype: int64\n"
     ]
    }
   ],
   "source": [
    "print(df['yr'])"
   ]
  },
  {
   "cell_type": "code",
   "execution_count": 65,
   "metadata": {
    "colab": {},
    "colab_type": "code",
    "id": "crAhMGfGX9jj"
   },
   "outputs": [
    {
     "name": "stdout",
     "output_type": "stream",
     "text": [
      "0      0.0\n",
      "1      0.0\n",
      "2      0.0\n",
      "3      0.0\n",
      "4      0.0\n",
      "5      0.0\n",
      "6      0.0\n",
      "7      0.0\n",
      "8      0.0\n",
      "9      0.0\n",
      "10     0.0\n",
      "11     0.0\n",
      "12     0.0\n",
      "13     0.0\n",
      "14     0.0\n",
      "15     0.0\n",
      "16     0.0\n",
      "17     0.0\n",
      "18     0.0\n",
      "19     0.0\n",
      "20     0.0\n",
      "21     0.0\n",
      "22     0.0\n",
      "23     0.0\n",
      "24     0.0\n",
      "25     0.0\n",
      "26     0.0\n",
      "27     0.0\n",
      "28     0.0\n",
      "29     0.0\n",
      "      ... \n",
      "701    1.0\n",
      "702    1.0\n",
      "703    1.0\n",
      "704    1.0\n",
      "705    1.0\n",
      "706    1.0\n",
      "707    1.0\n",
      "708    1.0\n",
      "709    1.0\n",
      "710    1.0\n",
      "711    1.0\n",
      "712    1.0\n",
      "713    1.0\n",
      "714    1.0\n",
      "715    1.0\n",
      "716    1.0\n",
      "717    1.0\n",
      "718    1.0\n",
      "719    1.0\n",
      "720    1.0\n",
      "721    1.0\n",
      "722    1.0\n",
      "723    1.0\n",
      "724    1.0\n",
      "725    1.0\n",
      "726    1.0\n",
      "727    1.0\n",
      "728    1.0\n",
      "729    1.0\n",
      "730    1.0\n",
      "Name: yr, Length: 731, dtype: float64\n"
     ]
    }
   ],
   "source": [
    "dates = df['yr']\n",
    "dates = (dates-dates.min())/(dates.max()-dates.min())\n",
    "df['yr'] = dates\n",
    "print(df['yr'])"
   ]
  },
  {
   "cell_type": "markdown",
   "metadata": {
    "colab_type": "text",
    "id": "pwvGXMVjnQlF"
   },
   "source": [
    "Correlation between dteday and cnt\n"
   ]
  },
  {
   "cell_type": "code",
   "execution_count": 66,
   "metadata": {
    "colab": {
     "base_uri": "https://localhost:8080/",
     "height": 34
    },
    "colab_type": "code",
    "id": "PigbXIeTbown",
    "outputId": "636050c2-e5b8-421c-c9fa-04ed21029c5d"
   },
   "outputs": [
    {
     "data": {
      "text/plain": [
       "0.6288302722083061"
      ]
     },
     "execution_count": 66,
     "metadata": {},
     "output_type": "execute_result"
    }
   ],
   "source": [
    "df['dteday'].corr(df['cnt'])"
   ]
  },
  {
   "cell_type": "markdown",
   "metadata": {
    "colab_type": "text",
    "id": "KbP8loFInaIE"
   },
   "source": [
    "Correlation between windspeed and temp\n"
   ]
  },
  {
   "cell_type": "code",
   "execution_count": 67,
   "metadata": {
    "colab": {
     "base_uri": "https://localhost:8080/",
     "height": 34
    },
    "colab_type": "code",
    "id": "A_r9gaz_qFTB",
    "outputId": "c71bf3f4-fbf5-4ddc-c9fc-1e591b419d5a"
   },
   "outputs": [
    {
     "data": {
      "text/plain": [
       "0.3343148563990949"
      ]
     },
     "execution_count": 67,
     "metadata": {},
     "output_type": "execute_result"
    }
   ],
   "source": [
    "df['season'].corr(df['temp'])"
   ]
  },
  {
   "cell_type": "code",
   "execution_count": 68,
   "metadata": {
    "colab": {
     "base_uri": "https://localhost:8080/",
     "height": 308
    },
    "colab_type": "code",
    "id": "jHS9BliedlXA",
    "outputId": "39682aae-dda9-4a00-f32b-3eff19d141d3"
   },
   "outputs": [
    {
     "data": {
      "text/html": [
       "<div>\n",
       "<style scoped>\n",
       "    .dataframe tbody tr th:only-of-type {\n",
       "        vertical-align: middle;\n",
       "    }\n",
       "\n",
       "    .dataframe tbody tr th {\n",
       "        vertical-align: top;\n",
       "    }\n",
       "\n",
       "    .dataframe thead th {\n",
       "        text-align: right;\n",
       "    }\n",
       "</style>\n",
       "<table border=\"1\" class=\"dataframe\">\n",
       "  <thead>\n",
       "    <tr style=\"text-align: right;\">\n",
       "      <th></th>\n",
       "      <th>instant</th>\n",
       "      <th>dteday</th>\n",
       "      <th>season</th>\n",
       "      <th>yr</th>\n",
       "      <th>mnth</th>\n",
       "      <th>holiday</th>\n",
       "      <th>weekday</th>\n",
       "      <th>workingday</th>\n",
       "      <th>weathersit</th>\n",
       "      <th>temp</th>\n",
       "      <th>atemp</th>\n",
       "      <th>hum</th>\n",
       "      <th>windspeed</th>\n",
       "      <th>casual</th>\n",
       "      <th>registered</th>\n",
       "      <th>cnt</th>\n",
       "    </tr>\n",
       "  </thead>\n",
       "  <tbody>\n",
       "    <tr>\n",
       "      <th>count</th>\n",
       "      <td>731.000000</td>\n",
       "      <td>731.000000</td>\n",
       "      <td>731.000000</td>\n",
       "      <td>731.000000</td>\n",
       "      <td>731.000000</td>\n",
       "      <td>731.000000</td>\n",
       "      <td>731.000000</td>\n",
       "      <td>731.000000</td>\n",
       "      <td>731.000000</td>\n",
       "      <td>731.000000</td>\n",
       "      <td>731.000000</td>\n",
       "      <td>731.000000</td>\n",
       "      <td>731.000000</td>\n",
       "      <td>731.000000</td>\n",
       "      <td>731.000000</td>\n",
       "      <td>731.000000</td>\n",
       "    </tr>\n",
       "    <tr>\n",
       "      <th>mean</th>\n",
       "      <td>366.000000</td>\n",
       "      <td>0.500000</td>\n",
       "      <td>2.496580</td>\n",
       "      <td>0.500684</td>\n",
       "      <td>6.519836</td>\n",
       "      <td>0.028728</td>\n",
       "      <td>2.997264</td>\n",
       "      <td>0.683995</td>\n",
       "      <td>1.395349</td>\n",
       "      <td>0.495385</td>\n",
       "      <td>0.474354</td>\n",
       "      <td>0.627894</td>\n",
       "      <td>0.190486</td>\n",
       "      <td>848.176471</td>\n",
       "      <td>3656.172367</td>\n",
       "      <td>4504.348837</td>\n",
       "    </tr>\n",
       "    <tr>\n",
       "      <th>std</th>\n",
       "      <td>211.165812</td>\n",
       "      <td>0.289268</td>\n",
       "      <td>1.110807</td>\n",
       "      <td>0.500342</td>\n",
       "      <td>3.451913</td>\n",
       "      <td>0.167155</td>\n",
       "      <td>2.004787</td>\n",
       "      <td>0.465233</td>\n",
       "      <td>0.544894</td>\n",
       "      <td>0.183051</td>\n",
       "      <td>0.162961</td>\n",
       "      <td>0.142429</td>\n",
       "      <td>0.077498</td>\n",
       "      <td>686.622488</td>\n",
       "      <td>1560.256377</td>\n",
       "      <td>1937.211452</td>\n",
       "    </tr>\n",
       "    <tr>\n",
       "      <th>min</th>\n",
       "      <td>1.000000</td>\n",
       "      <td>0.000000</td>\n",
       "      <td>1.000000</td>\n",
       "      <td>0.000000</td>\n",
       "      <td>1.000000</td>\n",
       "      <td>0.000000</td>\n",
       "      <td>0.000000</td>\n",
       "      <td>0.000000</td>\n",
       "      <td>1.000000</td>\n",
       "      <td>0.059130</td>\n",
       "      <td>0.079070</td>\n",
       "      <td>0.000000</td>\n",
       "      <td>0.022392</td>\n",
       "      <td>2.000000</td>\n",
       "      <td>20.000000</td>\n",
       "      <td>22.000000</td>\n",
       "    </tr>\n",
       "    <tr>\n",
       "      <th>25%</th>\n",
       "      <td>183.500000</td>\n",
       "      <td>0.250000</td>\n",
       "      <td>2.000000</td>\n",
       "      <td>0.000000</td>\n",
       "      <td>4.000000</td>\n",
       "      <td>0.000000</td>\n",
       "      <td>1.000000</td>\n",
       "      <td>0.000000</td>\n",
       "      <td>1.000000</td>\n",
       "      <td>0.337083</td>\n",
       "      <td>0.337842</td>\n",
       "      <td>0.520000</td>\n",
       "      <td>0.134950</td>\n",
       "      <td>315.500000</td>\n",
       "      <td>2497.000000</td>\n",
       "      <td>3152.000000</td>\n",
       "    </tr>\n",
       "    <tr>\n",
       "      <th>50%</th>\n",
       "      <td>366.000000</td>\n",
       "      <td>0.500000</td>\n",
       "      <td>3.000000</td>\n",
       "      <td>1.000000</td>\n",
       "      <td>7.000000</td>\n",
       "      <td>0.000000</td>\n",
       "      <td>3.000000</td>\n",
       "      <td>1.000000</td>\n",
       "      <td>1.000000</td>\n",
       "      <td>0.498333</td>\n",
       "      <td>0.486733</td>\n",
       "      <td>0.626667</td>\n",
       "      <td>0.180975</td>\n",
       "      <td>713.000000</td>\n",
       "      <td>3662.000000</td>\n",
       "      <td>4548.000000</td>\n",
       "    </tr>\n",
       "    <tr>\n",
       "      <th>75%</th>\n",
       "      <td>548.500000</td>\n",
       "      <td>0.750000</td>\n",
       "      <td>3.000000</td>\n",
       "      <td>1.000000</td>\n",
       "      <td>10.000000</td>\n",
       "      <td>0.000000</td>\n",
       "      <td>5.000000</td>\n",
       "      <td>1.000000</td>\n",
       "      <td>2.000000</td>\n",
       "      <td>0.655417</td>\n",
       "      <td>0.608602</td>\n",
       "      <td>0.730209</td>\n",
       "      <td>0.233214</td>\n",
       "      <td>1096.000000</td>\n",
       "      <td>4776.500000</td>\n",
       "      <td>5956.000000</td>\n",
       "    </tr>\n",
       "    <tr>\n",
       "      <th>max</th>\n",
       "      <td>731.000000</td>\n",
       "      <td>1.000000</td>\n",
       "      <td>4.000000</td>\n",
       "      <td>1.000000</td>\n",
       "      <td>12.000000</td>\n",
       "      <td>1.000000</td>\n",
       "      <td>6.000000</td>\n",
       "      <td>1.000000</td>\n",
       "      <td>3.000000</td>\n",
       "      <td>0.861667</td>\n",
       "      <td>0.840896</td>\n",
       "      <td>0.972500</td>\n",
       "      <td>0.507463</td>\n",
       "      <td>3410.000000</td>\n",
       "      <td>6946.000000</td>\n",
       "      <td>8714.000000</td>\n",
       "    </tr>\n",
       "  </tbody>\n",
       "</table>\n",
       "</div>"
      ],
      "text/plain": [
       "          instant      dteday      season          yr        mnth     holiday  \\\n",
       "count  731.000000  731.000000  731.000000  731.000000  731.000000  731.000000   \n",
       "mean   366.000000    0.500000    2.496580    0.500684    6.519836    0.028728   \n",
       "std    211.165812    0.289268    1.110807    0.500342    3.451913    0.167155   \n",
       "min      1.000000    0.000000    1.000000    0.000000    1.000000    0.000000   \n",
       "25%    183.500000    0.250000    2.000000    0.000000    4.000000    0.000000   \n",
       "50%    366.000000    0.500000    3.000000    1.000000    7.000000    0.000000   \n",
       "75%    548.500000    0.750000    3.000000    1.000000   10.000000    0.000000   \n",
       "max    731.000000    1.000000    4.000000    1.000000   12.000000    1.000000   \n",
       "\n",
       "          weekday  workingday  weathersit        temp       atemp         hum  \\\n",
       "count  731.000000  731.000000  731.000000  731.000000  731.000000  731.000000   \n",
       "mean     2.997264    0.683995    1.395349    0.495385    0.474354    0.627894   \n",
       "std      2.004787    0.465233    0.544894    0.183051    0.162961    0.142429   \n",
       "min      0.000000    0.000000    1.000000    0.059130    0.079070    0.000000   \n",
       "25%      1.000000    0.000000    1.000000    0.337083    0.337842    0.520000   \n",
       "50%      3.000000    1.000000    1.000000    0.498333    0.486733    0.626667   \n",
       "75%      5.000000    1.000000    2.000000    0.655417    0.608602    0.730209   \n",
       "max      6.000000    1.000000    3.000000    0.861667    0.840896    0.972500   \n",
       "\n",
       "        windspeed       casual   registered          cnt  \n",
       "count  731.000000   731.000000   731.000000   731.000000  \n",
       "mean     0.190486   848.176471  3656.172367  4504.348837  \n",
       "std      0.077498   686.622488  1560.256377  1937.211452  \n",
       "min      0.022392     2.000000    20.000000    22.000000  \n",
       "25%      0.134950   315.500000  2497.000000  3152.000000  \n",
       "50%      0.180975   713.000000  3662.000000  4548.000000  \n",
       "75%      0.233214  1096.000000  4776.500000  5956.000000  \n",
       "max      0.507463  3410.000000  6946.000000  8714.000000  "
      ]
     },
     "execution_count": 68,
     "metadata": {},
     "output_type": "execute_result"
    }
   ],
   "source": [
    "df.describe()"
   ]
  },
  {
   "cell_type": "markdown",
   "metadata": {
    "colab_type": "text",
    "id": "KZZ_HcLonfAc"
   },
   "source": [
    "Cost fuction"
   ]
  },
  {
   "cell_type": "code",
   "execution_count": 69,
   "metadata": {
    "colab": {},
    "colab_type": "code",
    "id": "KqwjHN3SV9Re"
   },
   "outputs": [],
   "source": [
    "def cost_function(X, Y, B):\n",
    "    m = len(Y)\n",
    "    J = np.sum((X.dot(B) - Y) ** 2)\n",
    "    J = J / (2 * m)\n",
    "    return J"
   ]
  },
  {
   "cell_type": "markdown",
   "metadata": {
    "colab_type": "text",
    "id": "K1tvn1TjnjVS"
   },
   "source": [
    "Function to find RMSE"
   ]
  },
  {
   "cell_type": "code",
   "execution_count": 70,
   "metadata": {
    "colab": {},
    "colab_type": "code",
    "id": "YlNTAGlQel3v"
   },
   "outputs": [],
   "source": [
    "def RMSE(X, Y, B):\n",
    "    m = len(Y)\n",
    "    J = np.sum((X.dot(B).astype(int) - Y) ** 2)    \n",
    "    J = J**0.5\n",
    "    J = J / (2 * m)\n",
    "    return J"
   ]
  },
  {
   "cell_type": "markdown",
   "metadata": {
    "colab_type": "text",
    "id": "ATyFPbV3npwi"
   },
   "source": [
    "Function to find R-squared value"
   ]
  },
  {
   "cell_type": "code",
   "execution_count": 71,
   "metadata": {
    "colab": {},
    "colab_type": "code",
    "id": "BqPBvcd49tdI"
   },
   "outputs": [],
   "source": [
    "def R_sqrd(X, Y, B):\n",
    "  Ybar = np.mean(Y)\n",
    "  ssreg = np.sum((X.dot(B) - Ybar)**2)\n",
    "  sstot = np.sum((Y - Ybar)**2)\n",
    "  return ssreg/sstot"
   ]
  },
  {
   "cell_type": "markdown",
   "metadata": {
    "colab_type": "text",
    "id": "wjKqvmCLn241"
   },
   "source": [
    "Function to do Linear Regression"
   ]
  },
  {
   "cell_type": "code",
   "execution_count": 72,
   "metadata": {
    "colab": {},
    "colab_type": "code",
    "id": "3PHMHbi4V5lt"
   },
   "outputs": [],
   "source": [
    "def linear_regression(df, features, target):\n",
    "  \n",
    "    train_df = df[:int(len(df)*0.7)]\n",
    "    test_df = df[int(len(df)*0.7):]\n",
    "    m = len(train_df)\n",
    "    x0 = np.ones(m)\n",
    "    X = np.array([x0] + [train_df[x] for x in features]).T\n",
    "    B = np.array([0] + [0 for x in features])\n",
    "    Y = np.array(train_df[target])\n",
    "    alpha = 0.0001\n",
    "    inital_cost = cost_function(X, Y, B)\n",
    "    print('Initial cost:', inital_cost)\n",
    "    newB, cost_history = gradient_descent(X, Y, B, alpha, 100000)\n",
    "    print(newB)\n",
    "    print('RMSE on train:', RMSE(X, Y, newB))\n",
    "    print('R squared value on train:', R_sqrd(X, Y, newB))\n",
    "    m = len(test_df)\n",
    "    x0 = np.ones(m)\n",
    "    X_ = np.array([x0] + [test_df[x] for x in features]).T\n",
    "    Y_ = np.array(test_df[target])\n",
    "    print('RMSE on test:', RMSE(X_, Y_, newB))\n",
    "    print('R squared value on train:', R_sqrd(X_, Y_, newB))\n",
    "    return newB"
   ]
  },
  {
   "cell_type": "markdown",
   "metadata": {
    "colab_type": "text",
    "id": "Zqalv5W0n9lT"
   },
   "source": [
    "Function to do gradient descent"
   ]
  },
  {
   "cell_type": "code",
   "execution_count": 73,
   "metadata": {
    "colab": {},
    "colab_type": "code",
    "id": "wIXesszJqlTG"
   },
   "outputs": [],
   "source": [
    "def gradient_descent(X, Y, B, alpha, iterations):\n",
    "    cost_history = [0] * iterations\n",
    "    m = len(Y)\n",
    "    \n",
    "    for iteration in range(iterations):\n",
    "        h = X.dot(B)\n",
    "        loss = h - Y\n",
    "        gradient = X.T.dot(loss) / m\n",
    "        B = B - alpha * gradient\n",
    "        cost = cost_function(X, Y, B)\n",
    "        cost_history[iteration] = cost\n",
    "        \n",
    "    return B, cost_history"
   ]
  },
  {
   "cell_type": "markdown",
   "metadata": {
    "colab_type": "text",
    "id": "Ik9fLahpoGGC"
   },
   "source": [
    "Doing linear regression with the features and finding RMSE and R-squared"
   ]
  },
  {
   "cell_type": "code",
   "execution_count": 74,
   "metadata": {
    "colab": {
     "base_uri": "https://localhost:8080/",
     "height": 190
    },
    "colab_type": "code",
    "id": "3d61ZPRHpQN3",
    "outputId": "78cdfa88-13e0-4f8a-fec7-0d34396ef056"
   },
   "outputs": [
    {
     "name": "stdout",
     "output_type": "stream",
     "text": [
      "Initial cost: 8453737.078277886\n",
      "[1445.91356325  759.03302101 2061.06937797   -7.92474148 1655.87187535\n",
      " -478.89947287]\n",
      "RMSE on train: 22.029837680382563\n",
      "R squared value on train: 0.45231669359976956\n",
      "RMSE on test: 47.11257892511518\n",
      "R squared value on train: 0.17404490604303183\n",
      "min count 22\n",
      "max count 8714\n"
     ]
    }
   ],
   "source": [
    "features = ['dteday', 'holiday', 'weekday',\n",
    "       'workingday', 'hum', 'windspeed']\n",
    "features = ['season', 'yr', 'mnth', 'temp', 'weathersit']\n",
    "linear_regression(df, features, 'cnt')\n",
    "print('min count',min(df['cnt']))\n",
    "print('max count',max(df['cnt']))"
   ]
  },
  {
   "cell_type": "code",
   "execution_count": null,
   "metadata": {},
   "outputs": [],
   "source": []
  }
 ],
 "metadata": {
  "colab": {
   "collapsed_sections": [],
   "name": "bikesharing.ipynb",
   "provenance": [],
   "version": "0.3.2"
  },
  "kernelspec": {
   "display_name": "Python 3",
   "language": "python",
   "name": "python3"
  },
  "language_info": {
   "codemirror_mode": {
    "name": "ipython",
    "version": 3
   },
   "file_extension": ".py",
   "mimetype": "text/x-python",
   "name": "python",
   "nbconvert_exporter": "python",
   "pygments_lexer": "ipython3",
   "version": "3.6.5"
  }
 },
 "nbformat": 4,
 "nbformat_minor": 1
}
