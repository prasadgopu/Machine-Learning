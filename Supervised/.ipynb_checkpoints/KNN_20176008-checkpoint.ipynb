{
 "cells": [
  {
   "cell_type": "markdown",
   "metadata": {},
   "source": [
    "<h1>K Nearest Neighbour</h1>"
   ]
  },
  {
   "cell_type": "code",
   "execution_count": 1,
   "metadata": {},
   "outputs": [],
   "source": [
    "import pandas as pd\n",
    "from scipy.io import arff\n",
    "import numpy\n",
    "import math\n",
    "import operator"
   ]
  },
  {
   "cell_type": "code",
   "execution_count": 2,
   "metadata": {},
   "outputs": [],
   "source": [
    "#Reading the train and test data\n",
    "data=arff.loadarff(\"trainProdSelection.arff\")\n",
    "trainData = pd.DataFrame(data[0])\n",
    "\n",
    "data=arff.loadarff(\"testProdSelection.arff\")\n",
    "testData = pd.DataFrame(data[0])"
   ]
  },
  {
   "cell_type": "code",
   "execution_count": 3,
   "metadata": {},
   "outputs": [
    {
     "data": {
      "text/plain": [
       "Type          object\n",
       "LifeStyle     object\n",
       "Vacation     float64\n",
       "eCredit      float64\n",
       "salary       float64\n",
       "property     float64\n",
       "label         object\n",
       "dtype: object"
      ]
     },
     "execution_count": 3,
     "metadata": {},
     "output_type": "execute_result"
    }
   ],
   "source": [
    "list(pd.DataFrame(data[0]))\n",
    "pd.DataFrame(data[0]).dtypes"
   ]
  },
  {
   "cell_type": "markdown",
   "metadata": {},
   "source": [
    "<h3>Train Data</h3>"
   ]
  },
  {
   "cell_type": "markdown",
   "metadata": {},
   "source": [
    "<h3>Pre-Processing Data</h3>"
   ]
  },
  {
   "cell_type": "code",
   "execution_count": 4,
   "metadata": {},
   "outputs": [],
   "source": [
    "trainData.Type=trainData.Type.str.decode(\"UTF-8\")\n",
    "trainData.LifeStyle=trainData.LifeStyle.str.decode(\"UTF-8\")\n",
    "trainData.label=trainData.label.str.decode(\"UTF-8\")"
   ]
  },
  {
   "cell_type": "code",
   "execution_count": 5,
   "metadata": {},
   "outputs": [],
   "source": [
    "minimumv=trainData.Vacation.min()\n",
    "maximumv=trainData.Vacation.max()\n",
    "trainData.Vacation=trainData.Vacation.apply(lambda x:(x-minimum)/(maximum-minimum))\n",
    "\n",
    "minimumc=trainData.eCredit.min()\n",
    "maximumc=trainData.eCredit.max()\n",
    "trainData.eCredit=trainData.eCredit.apply(lambda x:(x-minimum)/(maximum-minimum))\n",
    "\n",
    "minimums=trainData.salary.min()\n",
    "maximums=trainData.salary.max()\n",
    "trainData.salary=trainData.salary.apply(lambda x:(x-minimum)/(maximum-minimum))\n",
    "\n",
    "minimump=trainData.property.min()\n",
    "maximump=trainData.property.max()\n",
    "trainData.property=trainData.property.apply(lambda x:(x-minimum)/(maximum-minimum))\n"
   ]
  },
  {
   "cell_type": "code",
   "execution_count": 6,
   "metadata": {},
   "outputs": [
    {
     "data": {
      "text/html": [
       "<div>\n",
       "<style scoped>\n",
       "    .dataframe tbody tr th:only-of-type {\n",
       "        vertical-align: middle;\n",
       "    }\n",
       "\n",
       "    .dataframe tbody tr th {\n",
       "        vertical-align: top;\n",
       "    }\n",
       "\n",
       "    .dataframe thead th {\n",
       "        text-align: right;\n",
       "    }\n",
       "</style>\n",
       "<table border=\"1\" class=\"dataframe\">\n",
       "  <thead>\n",
       "    <tr style=\"text-align: right;\">\n",
       "      <th></th>\n",
       "      <th>Type</th>\n",
       "      <th>LifeStyle</th>\n",
       "      <th>Vacation</th>\n",
       "      <th>eCredit</th>\n",
       "      <th>salary</th>\n",
       "      <th>property</th>\n",
       "      <th>label</th>\n",
       "    </tr>\n",
       "  </thead>\n",
       "  <tbody>\n",
       "    <tr>\n",
       "      <th>0</th>\n",
       "      <td>student</td>\n",
       "      <td>spend&gt;saving</td>\n",
       "      <td>0.079365</td>\n",
       "      <td>0.107558</td>\n",
       "      <td>0.219960</td>\n",
       "      <td>0.183167</td>\n",
       "      <td>C1</td>\n",
       "    </tr>\n",
       "    <tr>\n",
       "      <th>1</th>\n",
       "      <td>student</td>\n",
       "      <td>spend&gt;saving</td>\n",
       "      <td>0.158730</td>\n",
       "      <td>0.052326</td>\n",
       "      <td>0.293102</td>\n",
       "      <td>0.112797</td>\n",
       "      <td>C1</td>\n",
       "    </tr>\n",
       "    <tr>\n",
       "      <th>2</th>\n",
       "      <td>student</td>\n",
       "      <td>spend&gt;saving</td>\n",
       "      <td>0.095238</td>\n",
       "      <td>0.177326</td>\n",
       "      <td>0.346023</td>\n",
       "      <td>0.174200</td>\n",
       "      <td>C1</td>\n",
       "    </tr>\n",
       "    <tr>\n",
       "      <th>3</th>\n",
       "      <td>student</td>\n",
       "      <td>spend&gt;saving</td>\n",
       "      <td>0.031746</td>\n",
       "      <td>0.127907</td>\n",
       "      <td>0.309882</td>\n",
       "      <td>0.189984</td>\n",
       "      <td>C1</td>\n",
       "    </tr>\n",
       "    <tr>\n",
       "      <th>4</th>\n",
       "      <td>student</td>\n",
       "      <td>spend&gt;saving</td>\n",
       "      <td>0.222222</td>\n",
       "      <td>0.020349</td>\n",
       "      <td>0.363663</td>\n",
       "      <td>0.127311</td>\n",
       "      <td>C1</td>\n",
       "    </tr>\n",
       "  </tbody>\n",
       "</table>\n",
       "</div>"
      ],
      "text/plain": [
       "      Type     LifeStyle  Vacation   eCredit    salary  property label\n",
       "0  student  spend>saving  0.079365  0.107558  0.219960  0.183167    C1\n",
       "1  student  spend>saving  0.158730  0.052326  0.293102  0.112797    C1\n",
       "2  student  spend>saving  0.095238  0.177326  0.346023  0.174200    C1\n",
       "3  student  spend>saving  0.031746  0.127907  0.309882  0.189984    C1\n",
       "4  student  spend>saving  0.222222  0.020349  0.363663  0.127311    C1"
      ]
     },
     "execution_count": 6,
     "metadata": {},
     "output_type": "execute_result"
    }
   ],
   "source": [
    "trainData.head()\n",
    "#The First 5 Rows"
   ]
  },
  {
   "cell_type": "markdown",
   "metadata": {},
   "source": [
    "<h3>Test Data</h3>"
   ]
  },
  {
   "cell_type": "markdown",
   "metadata": {},
   "source": [
    "<h3>Pre-Processing Data</h3>"
   ]
  },
  {
   "cell_type": "code",
   "execution_count": 7,
   "metadata": {},
   "outputs": [],
   "source": [
    "testData.Type=testData.Type.str.decode(\"UTF-8\")\n",
    "testData.LifeStyle=testData.LifeStyle.str.decode(\"UTF-8\")\n",
    "testData.label=testData.label.str.decode(\"UTF-8\")"
   ]
  },
  {
   "cell_type": "code",
   "execution_count": 8,
   "metadata": {},
   "outputs": [],
   "source": [
    "minimum=testData.Vacation.min()\n",
    "maximum=testData.Vacation.max()\n",
    "testData.Vacation=testData.Vacation.apply(lambda x:(x-minimum)/(maximum-minimum))\n",
    "\n",
    "minimum=testData.eCredit.min()\n",
    "maximum=testData.eCredit.max()\n",
    "testData.eCredit=testData.eCredit.apply(lambda x:(x-minimum)/(maximum-minimum))\n",
    "\n",
    "minimum=testData.salary.min()\n",
    "maximum=testData.salary.max()\n",
    "testData.salary=testData.salary.apply(lambda x:(x-minimum)/(maximum-minimum))\n",
    "\n",
    "minimum=testData.property.min()\n",
    "maximum=testData.property.max()\n",
    "testData.property=testData.property.apply(lambda x:(x-minimum)/(maximum-minimum))"
   ]
  },
  {
   "cell_type": "code",
   "execution_count": 9,
   "metadata": {},
   "outputs": [
    {
     "data": {
      "text/html": [
       "<div>\n",
       "<style scoped>\n",
       "    .dataframe tbody tr th:only-of-type {\n",
       "        vertical-align: middle;\n",
       "    }\n",
       "\n",
       "    .dataframe tbody tr th {\n",
       "        vertical-align: top;\n",
       "    }\n",
       "\n",
       "    .dataframe thead th {\n",
       "        text-align: right;\n",
       "    }\n",
       "</style>\n",
       "<table border=\"1\" class=\"dataframe\">\n",
       "  <thead>\n",
       "    <tr style=\"text-align: right;\">\n",
       "      <th></th>\n",
       "      <th>Type</th>\n",
       "      <th>LifeStyle</th>\n",
       "      <th>Vacation</th>\n",
       "      <th>eCredit</th>\n",
       "      <th>salary</th>\n",
       "      <th>property</th>\n",
       "      <th>label</th>\n",
       "    </tr>\n",
       "  </thead>\n",
       "  <tbody>\n",
       "    <tr>\n",
       "      <th>0</th>\n",
       "      <td>student</td>\n",
       "      <td>spend&lt;saving</td>\n",
       "      <td>0.20</td>\n",
       "      <td>0.058824</td>\n",
       "      <td>0.104637</td>\n",
       "      <td>0.398926</td>\n",
       "      <td>C1</td>\n",
       "    </tr>\n",
       "    <tr>\n",
       "      <th>1</th>\n",
       "      <td>student</td>\n",
       "      <td>spend&gt;&gt;saving</td>\n",
       "      <td>0.54</td>\n",
       "      <td>0.021008</td>\n",
       "      <td>0.175059</td>\n",
       "      <td>0.243041</td>\n",
       "      <td>C1</td>\n",
       "    </tr>\n",
       "    <tr>\n",
       "      <th>2</th>\n",
       "      <td>student</td>\n",
       "      <td>spend&lt;&lt;saving</td>\n",
       "      <td>0.52</td>\n",
       "      <td>0.231092</td>\n",
       "      <td>0.138339</td>\n",
       "      <td>0.085992</td>\n",
       "      <td>C1</td>\n",
       "    </tr>\n",
       "    <tr>\n",
       "      <th>3</th>\n",
       "      <td>engineer</td>\n",
       "      <td>spend&gt;saving</td>\n",
       "      <td>0.26</td>\n",
       "      <td>0.151261</td>\n",
       "      <td>0.430086</td>\n",
       "      <td>0.116229</td>\n",
       "      <td>C1</td>\n",
       "    </tr>\n",
       "    <tr>\n",
       "      <th>4</th>\n",
       "      <td>librarian</td>\n",
       "      <td>spend&lt;saving</td>\n",
       "      <td>0.00</td>\n",
       "      <td>0.016807</td>\n",
       "      <td>0.352657</td>\n",
       "      <td>0.025714</td>\n",
       "      <td>C1</td>\n",
       "    </tr>\n",
       "  </tbody>\n",
       "</table>\n",
       "</div>"
      ],
      "text/plain": [
       "        Type      LifeStyle  Vacation   eCredit    salary  property label\n",
       "0    student   spend<saving      0.20  0.058824  0.104637  0.398926    C1\n",
       "1    student  spend>>saving      0.54  0.021008  0.175059  0.243041    C1\n",
       "2    student  spend<<saving      0.52  0.231092  0.138339  0.085992    C1\n",
       "3   engineer   spend>saving      0.26  0.151261  0.430086  0.116229    C1\n",
       "4  librarian   spend<saving      0.00  0.016807  0.352657  0.025714    C1"
      ]
     },
     "execution_count": 9,
     "metadata": {},
     "output_type": "execute_result"
    }
   ],
   "source": [
    "testData.head()\n",
    "#The First 5 Rows"
   ]
  },
  {
   "cell_type": "markdown",
   "metadata": {},
   "source": [
    "<h3>Euclidean Distance</h3>"
   ]
  },
  {
   "cell_type": "code",
   "execution_count": 23,
   "metadata": {},
   "outputs": [],
   "source": [
    "def euclideanDistance(first, second, length):\n",
    "    distance = 0\n",
    "    \n",
    "    for i in range(2):\n",
    "        if (first[i]!=second[i]):\n",
    "            distance += pow((1), 2)\n",
    "    \n",
    "    for x in range(2,length):\n",
    "        distance += pow((first[x] - second[x]), 2)\n",
    "    \n",
    "    return math.sqrt(distance)"
   ]
  },
  {
   "cell_type": "markdown",
   "metadata": {},
   "source": [
    "<h3>Fetch Neighbours</h3>"
   ]
  },
  {
   "cell_type": "code",
   "execution_count": 2,
   "metadata": {},
   "outputs": [],
   "source": [
    "def fetchNeighbors(train_Set, test_Instance, k):\n",
    "    distances = []\n",
    "    length = len(test_Instance)-1\n",
    "    \n",
    "    #Looking for neighbours in train Set for every test entry\n",
    "    for x in range(len(train_Set)):\n",
    "        dist = euclideanDistance(test_Instance, train_Set[x], length)\n",
    "        distances.append((train_Set[x], dist))\n",
    "    \n",
    "    #Sorting the result based on distance\n",
    "    distances.sort(key=operator.itemgetter(1))\n",
    "    neighbors = []\n",
    "    \n",
    "    #Taking only the required k entries\n",
    "    for x in range(k):\n",
    "        neighbors.append(distances[x][0])\n",
    "    return neighbors"
   ]
  },
  {
   "cell_type": "markdown",
   "metadata": {},
   "source": [
    "<h3>Frequency for Each Class</h3>"
   ]
  },
  {
   "cell_type": "code",
   "execution_count": 6,
   "metadata": {},
   "outputs": [],
   "source": [
    "def getOutput(neighbors):\n",
    "    classFreq = {}\n",
    "    #Update a dictionary based on frequency for each and every class\n",
    "    for x in range(len(neighbors)):\n",
    "        result = neighbors[x][-1]\n",
    "        if result in classFreq:\n",
    "            classFreq[result] += 1\n",
    "        else:\n",
    "            classFreq[result] = 1\n",
    "    output = sorted(classFreq.items(), key=operator.itemgetter(1), reverse=True)\n",
    "    return output[0][0]"
   ]
  },
  {
   "cell_type": "markdown",
   "metadata": {},
   "source": [
    "<h3>Calculate Accuracy</h3>"
   ]
  },
  {
   "cell_type": "code",
   "execution_count": 7,
   "metadata": {},
   "outputs": [],
   "source": [
    "def calculateAccuracy(testSet, predictions):\n",
    "    wins = 0\n",
    "    for x in range(len(testSet)):\n",
    "        if testSet[x][-1] == predictions[x]:\n",
    "            wins += 1\n",
    "    return (wins/float(len(testSet))) * 100.0"
   ]
  },
  {
   "cell_type": "markdown",
   "metadata": {},
   "source": [
    "<h3>KNN</h3>"
   ]
  },
  {
   "cell_type": "code",
   "execution_count": 9,
   "metadata": {},
   "outputs": [],
   "source": [
    "def knn(k):\n",
    "    preds=[]\n",
    "    for x in range(len(testData)):\n",
    "        neighbors = fetchNeighbors(trainData.values, testData.values[x], k)\n",
    "        result = getOutput(neighbors)\n",
    "        preds.append(result)\n",
    "    accuracy = calculateAccuracy(testData.values, preds)\n",
    "    print('Accuracy: ' + repr(accuracy) + '%')"
   ]
  },
  {
   "cell_type": "code",
   "execution_count": 25,
   "metadata": {},
   "outputs": [
    {
     "name": "stdout",
     "output_type": "stream",
     "text": [
      "Accuracy: 33.33333333333333%\n"
     ]
    }
   ],
   "source": [
    "knn(55)"
   ]
  },
  {
   "cell_type": "code",
   "execution_count": null,
   "metadata": {},
   "outputs": [],
   "source": []
  },
  {
   "cell_type": "code",
   "execution_count": null,
   "metadata": {},
   "outputs": [],
   "source": []
  }
 ],
 "metadata": {
  "kernelspec": {
   "display_name": "Python 3",
   "language": "python",
   "name": "python3"
  },
  "language_info": {
   "codemirror_mode": {
    "name": "ipython",
    "version": 3
   },
   "file_extension": ".py",
   "mimetype": "text/x-python",
   "name": "python",
   "nbconvert_exporter": "python",
   "pygments_lexer": "ipython3",
   "version": "3.6.5"
  }
 },
 "nbformat": 4,
 "nbformat_minor": 2
}
