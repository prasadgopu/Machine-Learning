{
  "cells": [
    {
      "metadata": {},
      "cell_type": "markdown",
      "source": "# DAT257x: Reinforcement Learning Explained\n\n## Lab 7: Policy Gradient\n\n### Exercise 7.2: Baselined REINFORCE"
    },
    {
      "metadata": {},
      "cell_type": "markdown",
      "source": "This assignment features the Cartpole domain which tasks the agent with balancing a pole affixed to a movable cart. The agent employs two discrete actions which apply force to the cart. Episodes provide +1 reward for each step in which the pole has not fallen over, up to a maximum of 200 steps. \n\n## Objectives\n* Implement a baselined version of REINFORCE\n* Define a Value function network $V_\\phi(s)$\n* Build the trainer and associated loss function\n* Train REINFORCE using baselined rewards  $\\nabla_\\theta J(\\theta)=\\sum_{t=0}^T \\nabla_\\theta \\log \\pi_\\theta(a_t|s_t) (R - V_\\phi(s_t))$\n\n## Success Criterion\nThe main difference in a correct implementation of baselined REINFORCE will be a reduction in the variance. If correct, the baselined REINFORCE will achieve successful trials (of 200 steps) with a variance of less than 1000 on average, whereas the original REINFORCE was close to 2500.\n\nBaselined REINFORCE should still solve the Cartpole domain about as often as before, but now with a lower variance."
    },
    {
      "metadata": {
        "trusted": true
      },
      "cell_type": "code",
      "source": "import cntk as C\nfrom cntk.layers import Sequential, Dense\nfrom cntk.logging import ProgressPrinter\nimport numpy as np\nimport gym\n\nimport sys\nif \"../\" not in sys.path:\n    sys.path.append(\"../\") \n    \nfrom lib.running_variance import RunningVariance\nfrom itertools import count\nimport sys\n\nfrom lib import plotting\n\nnp.random.seed(123)\nC.cntk_py.set_fixed_random_seed(123)\nC.cntk_py.force_deterministic_algorithms()\n\nenv = gym.make('CartPole-v0')\n\nstate_dim = env.observation_space.shape[0] # Dimension of state space\naction_count = env.action_space.n # Number of actions\nhidden_size = 128 # Number of hidden units\nupdate_frequency = 20\n\n# The policy network maps an observation to a probability of taking action 0 or 1.\nobservations = C.sequence.input_variable(state_dim, np.float32, name=\"obs\")\nW1 = C.parameter(shape=(state_dim, hidden_size), init=C.glorot_uniform(), name=\"W1\")\nb1 = C.parameter(shape=hidden_size, name=\"b1\")\nlayer1 = C.relu(C.times(observations, W1) + b1)\nW2 = C.parameter(shape=(hidden_size, action_count), init=C.glorot_uniform(), name=\"W2\")\nb2 = C.parameter(shape=action_count, name=\"b2\")\nlayer2 = C.times(layer1, W2) + b2\noutput = C.sigmoid(layer2, name=\"output\")\n\n# Label will tell the network what action it should have taken.\nlabel = C.sequence.input_variable(1, np.float32, name=\"label\")\n# return_weight is a scalar containing the discounted return. It will scale the PG loss.\nreturn_weight = C.sequence.input_variable(1, np.float32, name=\"weight\")\n# PG Loss \nloss = -C.reduce_mean(C.log(C.square(label - output) + 1e-4) * return_weight, axis=0, name='loss')\n\n# Build the optimizer\nlr_schedule = C.learning_rate_schedule(lr=0.1, unit=C.UnitType.sample) \nm_schedule = C.momentum_schedule(0.99)\nvm_schedule = C.momentum_schedule(0.999)\noptimizer = C.adam([W1, W2], lr_schedule, momentum=m_schedule, variance_momentum=vm_schedule)\n\n# Create a buffer to manually accumulate gradients\ngradBuffer = dict((var.name, np.zeros(shape=var.shape)) for var in loss.parameters if var.name in ['W1', 'W2', 'b1', 'b2'])\n\ndef discount_rewards(r, gamma=0.999):\n    \"\"\"Take 1D float array of rewards and compute discounted reward \"\"\"\n    discounted_r = np.zeros_like(r)\n    running_add = 0\n    for t in reversed(range(0, r.size)):\n        running_add = running_add * gamma + r[t]\n        discounted_r[t] = running_add\n    return discounted_r",
      "execution_count": 1,
      "outputs": []
    },
    {
      "metadata": {},
      "cell_type": "markdown",
      "source": "Now we need to define a critic network which will estimate the value function $V_\\phi(s_t)$. You can likely reuse code from the policy network or look at other CNTK network examples.\n\nAdditionally, you'll need to define a squared error loss function, optimizer, and trainer for this newtork."
    },
    {
      "metadata": {
        "trusted": true
      },
      "cell_type": "code",
      "source": "# TODO 1: Define the critic network that learns the value function V(s).\n# Hint: you can use a similar architecture as the policy network, except\n# the output should just be a scalar value estimate. Also, since the value\n# function learning is more standard, it's possible to use stanard CNTK\n# wrappers such as Trainer(). \n\ncritic_input = None # Modify this\ncritic_output = None # Modify this\n\ncritic = Sequential([\n    Dense(critic_input, activation=C.relu, init=C.glorot_uniform()),\n    Dense(critic_output, activation=None, init=C.glorot_uniform(scale=.01))\n])(observations)\n\n# TODO 2: Define target and Squared Error Loss Function, adam optimizier, and trainer for the Critic.\ncritic_target = None # Modify this\ncritic_loss = None # Modify this\ncritic_lr_schedule = C.learning_rate_schedule(lr=0.1, unit=C.UnitType.sample) \ncritic_optimizer = C.adam(critic.parameters, critic_lr_schedule, momentum=m_schedule, variance_momentum=vm_schedule)\ncritic_trainer = C.Trainer(critic, (critic_loss, None), critic_optimizer)",
      "execution_count": null,
      "outputs": []
    },
    {
      "metadata": {},
      "cell_type": "markdown",
      "source": "The main training loop is nearly identical except you'll need to train the critic to minimize the difference between the predicted and observed return at each step. Additionally, you'll need to update the Reinforce update to subtract the baseline."
    },
    {
      "metadata": {
        "trusted": true
      },
      "cell_type": "code",
      "source": "running_variance = RunningVariance()\nreward_sum = 0\n\nmax_number_of_episodes = 500\n\nstats = plotting.EpisodeStats(\n    episode_lengths=np.zeros(max_number_of_episodes),\n    episode_rewards=np.zeros(max_number_of_episodes),\n    episode_running_variance=np.zeros(max_number_of_episodes))\n\n\nfor episode_number in range(max_number_of_episodes):\n    states, rewards, labels = [],[],[]\n    done = False\n    observation = env.reset()\n    t = 1\n    while not done:\n        state = np.reshape(observation, [1, state_dim]).astype(np.float32)\n        states.append(state)\n\n        # Run the policy network and get an action to take.\n        prob = output.eval(arguments={observations: state})[0][0][0]\n        # Sample from the bernoulli output distribution to get a discrete action\n        action = 1 if np.random.uniform() < prob else 0\n\n        # Pseudo labels to encourage the network to increase\n        # the probability of the chosen action. This label will be used\n        # in the loss function above.\n        y = 1 if action == 0 else 0  # a \"fake label\"\n        labels.append(y)\n\n        # step the environment and get new measurements\n        observation, reward, done, _ = env.step(action)\n        reward_sum += float(reward)\n\n        # Record reward (has to be done after we call step() to get reward for previous action)\n        rewards.append(float(reward))\n        \n        stats.episode_rewards[episode_number] += reward\n        stats.episode_lengths[episode_number] = t\n        t += 1\n\n    # Stack together all inputs, hidden states, action gradients, and rewards for this episode\n    epx = np.vstack(states)\n    epl = np.vstack(labels).astype(np.float32)\n    epr = np.vstack(rewards).astype(np.float32)\n\n    # Compute the discounted reward backwards through time.\n    discounted_epr = discount_rewards(epr)\n\n    # TODO 3\n    # Train the critic to predict the discounted reward from the observation\n    # - use train_minibatch() function of the critic_trainer. \n    # - observations is epx which are the states, and critic_target is discounted_epr\n    # - then predict the discounted reward using the eval() function of the critic network and assign it to baseline\n    critic_trainer.train_minibatch() # modify this\n    baseline = None # modify this\n    \n    # Compute the baselined returns: A = R - b(s). Weight the gradients by this value.\n    baselined_returns = discounted_epr - baseline\n    \n    # Keep a running estimate over the variance of the discounted rewards (in this case baselined_returns)\n    for r in baselined_returns:\n        running_variance.add(r[0])\n\n    # Forward pass\n    arguments = {observations: epx, label: epl, return_weight: baselined_returns}\n    state, outputs_map = loss.forward(arguments, outputs=loss.outputs,\n                                      keep_for_backward=loss.outputs)\n\n    # Backward pass\n    root_gradients = {v: np.ones_like(o) for v, o in outputs_map.items()}\n    vargrads_map = loss.backward(state, root_gradients, variables=set([W1, W2]))\n\n    for var, grad in vargrads_map.items():\n        gradBuffer[var.name] += grad\n\n    # Only update every 20 episodes to reduce noise\n    if episode_number % update_frequency == 0:\n        grads = {W1: gradBuffer['W1'].astype(np.float32),\n                 W2: gradBuffer['W2'].astype(np.float32)}\n        updated = optimizer.update(grads, update_frequency)\n\n        # reset the gradBuffer\n        gradBuffer = dict((var.name, np.zeros(shape=var.shape))\n                          for var in loss.parameters if var.name in ['W1', 'W2', 'b1', 'b2'])\n\n        print('Episode: %d/%d. Average reward for episode %f. Variance %f' % (episode_number, max_number_of_episodes, reward_sum / update_frequency, running_variance.get_variance()))\n            \n        sys.stdout.flush()\n        \n        reward_sum = 0\n        \n    stats.episode_running_variance[episode_number] = running_variance.get_variance()",
      "execution_count": null,
      "outputs": []
    },
    {
      "metadata": {
        "collapsed": true,
        "trusted": false
      },
      "cell_type": "code",
      "source": "plotting.plot_pgresults(stats)",
      "execution_count": null,
      "outputs": []
    }
  ],
  "metadata": {
    "kernelspec": {
      "name": "python3",
      "display_name": "Python 3",
      "language": "python"
    }
  },
  "nbformat": 4,
  "nbformat_minor": 2
}